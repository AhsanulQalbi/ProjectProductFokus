{
 "cells": [
  {
   "cell_type": "code",
   "execution_count": null,
   "metadata": {},
   "outputs": [],
   "source": [
    "# cell 1\n",
    "import ipywidgets as widgets\n",
    "import ipython_blocking\n",
    "dd = widgets.Dropdown(options=['', 'foo', 'bar', 'baz'])\n",
    "dd\n",
    "\n",
    "# cell 2\n",
    "%block dd\n",
    "\n",
    "# cell 3\n",
    "# Won't actually be executed until the user chooses an option in the dd widget\n",
    "print(dd.value)"
   ]
  },
  {
   "cell_type": "code",
   "execution_count": null,
   "metadata": {},
   "outputs": [],
   "source": []
  }
 ],
 "metadata": {
  "kernelspec": {
   "display_name": "Python 3",
   "language": "python",
   "name": "python3"
  },
  "language_info": {
   "codemirror_mode": {
    "name": "ipython",
    "version": 3
   },
   "file_extension": ".py",
   "mimetype": "text/x-python",
   "name": "python",
   "nbconvert_exporter": "python",
   "pygments_lexer": "ipython3",
   "version": "3.8.3"
  }
 },
 "nbformat": 4,
 "nbformat_minor": 4
}
