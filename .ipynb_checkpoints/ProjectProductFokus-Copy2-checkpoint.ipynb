{
 "cells": [
  {
   "cell_type": "code",
   "execution_count": null,
   "metadata": {},
   "outputs": [
    {
     "data": {
      "application/vnd.jupyter.widget-view+json": {
       "model_id": "91b2c4e24d6e4d9e97216cfe705eb592",
       "version_major": 2,
       "version_minor": 0
      },
      "text/plain": [
       "Checkbox(value=False, description='checker')"
      ]
     },
     "metadata": {},
     "output_type": "display_data"
    },
    {
     "name": "stdout",
     "output_type": "stream",
     "text": [
      "Berikut merupakan List Nama User : \n",
      "['EKA CHAIRANI', 'VACANT - WONOGIRI', 'DAVIQ NOVADA AMD KL', 'ELVIN OTTO MULIAWAN', 'JUAN STENLY TITAHENA', 'RUSUDI GULO', 'ARI YULIAWAN', 'ROSE AGUSTIN, SE', 'DANNIEL', 'VACANT - PALU 2', 'MASHURI HASAN', 'NOOR AYU ARIYANTI', 'DINA ANGGRAINI', 'GALIH YOHANES', 'HARTANTO', 'MUHAMMAD ALI RIDHO', 'GATOT PRAMONO', 'RICHARD', 'RIZAL ZAELANI']\n",
      "Masukan User2 yang akan dihitung Incentive Product Fokus : \n"
     ]
    }
   ],
   "source": [
    "import pandas as pd\n",
    "import numpy as np\n",
    "import pandasql as ps\n",
    "\n",
    "from IPython.display import display\n",
    "from ipywidgets import Checkbox\n",
    "\n",
    "box = Checkbox(False, description='checker')\n",
    "display(box)\n",
    "\n",
    "def changed(b):\n",
    "    print(b)\n",
    "\n",
    "box.observe(changed)\n",
    "\n",
    "# targetSales = 5000000\n",
    "# dataCsv = pd.read_excel('cleanData.xlsx')\n",
    "# dataFrame = pd.DataFrame(dataCsv)\n",
    "\n",
    "# usernames = []\n",
    "# index = 1\n",
    "\n",
    "# query = \"select DISTINCT AM from  dataFrame;\"\n",
    "# dataUser = np.array(ps.sqldf(query)).flatten().tolist()\n",
    "# dataUserTemp = dataUser\n",
    "\n",
    "# print(\"Berikut merupakan List Nama User : \")\n",
    "# print(dataUser)\n",
    "# print(\"Masukan User2 yang akan dihitung Incentive Product Fokus : \")\n",
    "\n",
    "# while(1) :\n",
    "#     userinput = input('input username ke {} (kosongkan jika sudah): '.format(index))\n",
    "#     if userinput == '' :\n",
    "#         break;\n",
    "#     if userinput in dataUserTemp:\n",
    "#             usernames.append(userinput)\n",
    "#             dataUserTemp.remove(userinput)\n",
    "#     else : \n",
    "#         print('Inputan tidak Cocok untuk data Apotek / sudah diinput sebelumnya')\n",
    "#     index = index + 1\n",
    "    \n",
    "# index = 0\n",
    "# while (index< len(usernames)) : \n",
    "#     print(\"data {}\".format(usernames[index]))\n",
    "    \n",
    "#     dataFrameAmFilter = dataFrame.copy()\n",
    "#     query = \"select * from  dataFrameAmFilter where AM = '{}';\".format(usernames[index])\n",
    "#     dataFrameAmFilter = ps.sqldf(query)\n",
    "    \n",
    "#     dataProductFokus = dataFrameAmFilter.copy()\n",
    "#     query = \"select * from  dataFrameAmFilter where NAMAPROD like 'D-VIT%' \"\n",
    "#     query = query + \"or NAMAPROD like 'CALNIC%'\"\n",
    "#     query = query + \"or NAMAPROD like 'VOXIN%'\"\n",
    "#     query = query + \"or NAMAPROD like 'CEFAROX%'\"\n",
    "#     query = query + \"or NAMAPROD like 'GASTROLAN%'\"\n",
    "#     query = query + \"or NAMAPROD like 'VOMISTOP%'\"\n",
    "#     query = query + \"or NAMAPROD like 'ESTIN%'\"\n",
    "#     query = query + \"or NAMAPROD like 'ZEMINDO%'\"\n",
    "#     query = query + \"or NAMAPROD like 'BUSMIN%'\"\n",
    "#     query = query + \"or NAMAPROD like 'HI-SQUA%'\"\n",
    "#     dataProductFokus = ps.sqldf(query)\n",
    "    \n",
    "#     query = \"SELECT DISTINCT NAMALANG FROM  dataProductFokus WHERE \\\"TYPE OUTLET\\\" = 'APOTIK' or 'TYPE OUTLET' = 'APOTEK'; \"\n",
    "#     dataApotek = np.array(ps.sqldf(query)).flatten().tolist()\n",
    "    \n",
    "#     print(dataApotek)\n",
    "#     dispenList = []\n",
    "    \n",
    "#     while(1):\n",
    "#         userinput = str(input('masukan nama Apotik Langganan yang dispen (biarkan kosong untuk selesai)'))\n",
    "#         if userinput == '' :\n",
    "#             break;\n",
    "#         if userinput in dataApotek:\n",
    "#             dispenList.append(userinput)\n",
    "#             dataApotek.remove(userinput)\n",
    "#         else :\n",
    "#             print('Inputan tidak Cocok untuk data Apotek / sudah diinput sebelumnya')\n",
    "\n",
    "#     listApotekDispen = pd.DataFrame(dispenList, columns = ['dispen'])\n",
    "#     query = \"select * from  dataProductFokus where \\\"NAMALANG\\\" not in (select dispen from listApotekDispen) and  PRSND <= 35\"\n",
    "#     filterDataProductFokus = ps.sqldf(query)\n",
    "    \n",
    "#     query = \"select sum(THNA) from  filterDataProductFokus\"\n",
    "#     sumSales = np.array(ps.sqldf(query)).flatten().tolist()\n",
    "   \n",
    "#     if sumSales[0] >= targetSales : \n",
    "#         query = \"select ({} - 5000000) * 7.5/100 as \\\"Incentive Product Fokus\\\" from filterDataProductFokus \".format(sumSales[0])\n",
    "#         IPF = np.array(ps.sqldf(query)).flatten().tolist()\n",
    "#         TotalIncentive = IPF[0]\n",
    "#     else :\n",
    "#         TotalIncentive = 0\n",
    "    \n",
    "#     print(\"\\nTotal IPF yang diterima oleh {} adalah : {} \\n\".format(usernames[index],TotalIncentive))\n",
    "  \n",
    "#     index = index + 1"
   ]
  },
  {
   "cell_type": "code",
   "execution_count": null,
   "metadata": {},
   "outputs": [],
   "source": []
  },
  {
   "cell_type": "code",
   "execution_count": null,
   "metadata": {},
   "outputs": [],
   "source": []
  }
 ],
 "metadata": {
  "kernelspec": {
   "display_name": "Python 3",
   "language": "python",
   "name": "python3"
  },
  "language_info": {
   "codemirror_mode": {
    "name": "ipython",
    "version": 3
   },
   "file_extension": ".py",
   "mimetype": "text/x-python",
   "name": "python",
   "nbconvert_exporter": "python",
   "pygments_lexer": "ipython3",
   "version": "3.8.3"
  }
 },
 "nbformat": 4,
 "nbformat_minor": 4
}
